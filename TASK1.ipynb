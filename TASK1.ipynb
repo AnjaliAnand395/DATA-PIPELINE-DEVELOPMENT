{
  "nbformat": 4,
  "nbformat_minor": 0,
  "metadata": {
    "colab": {
      "provenance": [],
      "authorship_tag": "ABX9TyMUWZDCIDn0fYXclA29E681",
      "include_colab_link": true
    },
    "kernelspec": {
      "name": "python3",
      "display_name": "Python 3"
    },
    "language_info": {
      "name": "python"
    }
  },
  "cells": [
    {
      "cell_type": "markdown",
      "metadata": {
        "id": "view-in-github",
        "colab_type": "text"
      },
      "source": [
        "<a href=\"https://colab.research.google.com/github/AnjaliAnand395/DATA-PIPELINE-DEVELOPMENT/blob/main/TASK1.ipynb\" target=\"_parent\"><img src=\"https://colab.research.google.com/assets/colab-badge.svg\" alt=\"Open In Colab\"/></a>"
      ]
    },
    {
      "cell_type": "code",
      "execution_count": null,
      "metadata": {
        "id": "8JeVillZopq4"
      },
      "outputs": [],
      "source": [
        "import pandas as pd\n",
        "from sklearn.model_selection import train_test_split\n",
        "from sklearn.preprocessing import StandardScaler,OneHotEncoder\n",
        "from sklearn.compose import ColumnTransformer\n",
        "from sklearn.pipeline import Pipeline\n",
        "import os"
      ]
    },
    {
      "cell_type": "code",
      "source": [
        "# File paths\n",
        "\n",
        "INPUT_FILE='/content/diabetes.xlsx'\n",
        "OUTPUT_DIR='./processed_data/'\n",
        "PROCESSED_FILE=os.path.join(OUTPUT_DIR, 'diabetes_processed.csv')"
      ],
      "metadata": {
        "id": "ppRay7NwpX71"
      },
      "execution_count": null,
      "outputs": []
    },
    {
      "cell_type": "code",
      "source": [
        "# Load Data\n",
        "print('Loading data...')\n",
        "df=pd.read_excel(INPUT_FILE)\n",
        "print(f'Data loaded.shape: {df.shape}')"
      ],
      "metadata": {
        "colab": {
          "base_uri": "https://localhost:8080/"
        },
        "id": "Mnx8YEQVqPvx",
        "outputId": "aec108f6-8473-47d2-dfe1-dfde580c34bf"
      },
      "execution_count": null,
      "outputs": [
        {
          "output_type": "stream",
          "name": "stdout",
          "text": [
            "Loading data...\n",
            "Data loaded.shape: (768, 9)\n"
          ]
        }
      ]
    },
    {
      "cell_type": "code",
      "source": [
        "# Basic data info\n",
        "\n",
        "print('\\nData Info: ')\n",
        "df.info()\n",
        "print('\\nSample Data: ')\n",
        "print(df.head())"
      ],
      "metadata": {
        "colab": {
          "base_uri": "https://localhost:8080/"
        },
        "id": "j6BSXu5Zqq3V",
        "outputId": "01afb655-5c59-48e9-ed68-6e3d4bcded38"
      },
      "execution_count": null,
      "outputs": [
        {
          "output_type": "stream",
          "name": "stdout",
          "text": [
            "\n",
            "Data Info: \n",
            "<class 'pandas.core.frame.DataFrame'>\n",
            "RangeIndex: 768 entries, 0 to 767\n",
            "Data columns (total 9 columns):\n",
            " #   Column                    Non-Null Count  Dtype  \n",
            "---  ------                    --------------  -----  \n",
            " 0   Pregnancies               768 non-null    int64  \n",
            " 1   Glucose                   768 non-null    int64  \n",
            " 2   BloodPressure             768 non-null    int64  \n",
            " 3   SkinThickness             768 non-null    int64  \n",
            " 4   Insulin                   768 non-null    int64  \n",
            " 5   BMI                       768 non-null    float64\n",
            " 6   DiabetesPedigreeFunction  768 non-null    float64\n",
            " 7   Age                       768 non-null    int64  \n",
            " 8   Outcome                   768 non-null    int64  \n",
            "dtypes: float64(2), int64(7)\n",
            "memory usage: 54.1 KB\n",
            "\n",
            "Sample Data: \n",
            "   Pregnancies  Glucose  BloodPressure  ...  DiabetesPedigreeFunction  Age  Outcome\n",
            "0            6      148             72  ...                     0.627   50        1\n",
            "1            1       85             66  ...                     0.351   31        0\n",
            "2            8      183             64  ...                     0.672   32        1\n",
            "3            1       89             66  ...                     0.167   21        0\n",
            "4            0      137             40  ...                     2.288   33        1\n",
            "\n",
            "[5 rows x 9 columns]\n"
          ]
        }
      ]
    },
    {
      "cell_type": "code",
      "source": [
        "# Handling missing values\n",
        "\n",
        "print('\\nChecking for missing values...')\n",
        "missing_summary=df.isna().sum()\n",
        "print(missing_summary[missing_summary>0])\n",
        "df.dropna(inplace=True)\n",
        "print(f'After dropping missing values: {df.shape}')"
      ],
      "metadata": {
        "colab": {
          "base_uri": "https://localhost:8080/"
        },
        "id": "3fHmc0qvrKIc",
        "outputId": "bffa3be5-c57b-429a-a574-5d8fe2986764"
      },
      "execution_count": null,
      "outputs": [
        {
          "output_type": "stream",
          "name": "stdout",
          "text": [
            "\n",
            "Checking for missing values...\n",
            "Series([], dtype: int64)\n",
            "After dropping missing values: (768, 9)\n"
          ]
        }
      ]
    },
    {
      "cell_type": "code",
      "source": [
        "# Splitting features and target\n",
        "\n",
        "X = df.drop(columns=['Outcome'])\n",
        "y = df['Outcome']"
      ],
      "metadata": {
        "id": "h_Rowzhgr9vL"
      },
      "execution_count": null,
      "outputs": []
    },
    {
      "cell_type": "code",
      "source": [
        "# Define numerical and categorical columns\n",
        "\n",
        "numerical_features = X.select_dtypes(include=['int64', 'float64']).columns.tolist()\n",
        "categorical_features = X.select_dtypes(include=['object', 'category']).columns.tolist()"
      ],
      "metadata": {
        "id": "l9vh-tFpsUkY"
      },
      "execution_count": null,
      "outputs": []
    },
    {
      "cell_type": "code",
      "source": [
        "# Creating the preprocessing pipeline\n",
        "\n",
        "print('\\nCreating preprocessing pipeline...')\n",
        "preprocessor = ColumnTransformer([\n",
        "        ('num', StandardScaler(), numerical_features),\n",
        "        ('cat', OneHotEncoder(handle_unknown='ignore'), categorical_features)\n",
        "    ])"
      ],
      "metadata": {
        "colab": {
          "base_uri": "https://localhost:8080/"
        },
        "id": "hd9WBu6is8C0",
        "outputId": "5a975ee0-d245-492b-abaf-ea54d5130598"
      },
      "execution_count": null,
      "outputs": [
        {
          "output_type": "stream",
          "name": "stdout",
          "text": [
            "\n",
            "Creating preprocessing pipeline...\n"
          ]
        }
      ]
    },
    {
      "cell_type": "code",
      "source": [
        "# Combine preprocessing into a single pipeline\n",
        "\n",
        "pipeline=Pipeline([\n",
        "    ('preprocessor', preprocessor)\n",
        "\n",
        "])"
      ],
      "metadata": {
        "id": "0UHc_-PVtsSI"
      },
      "execution_count": null,
      "outputs": []
    },
    {
      "cell_type": "code",
      "source": [
        "# Apply transformations\n",
        "\n",
        "print('\\nTransforming data...')\n",
        "X_processed=pipeline.fit_transform(X)"
      ],
      "metadata": {
        "colab": {
          "base_uri": "https://localhost:8080/"
        },
        "id": "_tFuKPXduEbv",
        "outputId": "bf25b253-3e50-447d-df2b-9995e7d28fe8"
      },
      "execution_count": null,
      "outputs": [
        {
          "output_type": "stream",
          "name": "stdout",
          "text": [
            "\n",
            "Transforming data...\n"
          ]
        }
      ]
    },
    {
      "cell_type": "code",
      "source": [
        "# Save the processed data\n",
        "\n",
        "print('\\nSaving processed data...')\n",
        "os.makedirs(OUTPUT_DIR, exist_ok=True)\n",
        "df_processed=pd.DataFrame(X_processed)\n",
        "df_processed['Outcome']=y.reset_index(drop=True)\n",
        "df_processed.to_csv(PROCESSED_FILE, index=False)\n",
        "print(f'Processed data saved to {PROCESSED_FILE}')\n"
      ],
      "metadata": {
        "colab": {
          "base_uri": "https://localhost:8080/"
        },
        "id": "9GbAgJw9uSvk",
        "outputId": "009fc352-18d0-4fb1-bd1e-319be25024c6"
      },
      "execution_count": null,
      "outputs": [
        {
          "output_type": "stream",
          "name": "stdout",
          "text": [
            "\n",
            "Saving processed data...\n",
            "Processed data saved to ./processed_data/diabetes_processed.csv\n"
          ]
        }
      ]
    },
    {
      "cell_type": "code",
      "source": [
        "print('\\nETL process complete. ')"
      ],
      "metadata": {
        "colab": {
          "base_uri": "https://localhost:8080/"
        },
        "id": "NZCwP0XHvCdx",
        "outputId": "482fb2a8-4cf8-49f9-f261-4cf781f79f6d"
      },
      "execution_count": null,
      "outputs": [
        {
          "output_type": "stream",
          "name": "stdout",
          "text": [
            "\n",
            "ETL process complete. \n"
          ]
        }
      ]
    },
    {
      "cell_type": "code",
      "source": [
        "# Load the processed file\n",
        "\n",
        "processed_file = '/content/processed_data/diabetes_processed.csv'\n",
        "df_processed = pd.read_csv(processed_file)"
      ],
      "metadata": {
        "id": "U3Z1FpPOvspw"
      },
      "execution_count": null,
      "outputs": []
    },
    {
      "cell_type": "code",
      "source": [
        "# Preview the data\n",
        "\n",
        "print(df_processed.head())\n",
        "print(\"\\nData INfo:\")\n",
        "df_processed.info()\n"
      ],
      "metadata": {
        "colab": {
          "base_uri": "https://localhost:8080/"
        },
        "id": "YclAvxuEv9wH",
        "outputId": "2213a773-7850-4ff8-bac9-95124271a303"
      },
      "execution_count": null,
      "outputs": [
        {
          "output_type": "stream",
          "name": "stdout",
          "text": [
            "          0         1         2  ...         6         7  Outcome\n",
            "0  0.639947  0.848324  0.149641  ...  0.468492  1.425995        1\n",
            "1 -0.844885 -1.123396 -0.160546  ... -0.365061 -0.190672        0\n",
            "2  1.233880  1.943724 -0.263941  ...  0.604397 -0.105584        1\n",
            "3 -0.844885 -0.998208 -0.160546  ... -0.920763 -1.041549        0\n",
            "4 -1.141852  0.504055 -1.504687  ...  5.484909 -0.020496        1\n",
            "\n",
            "[5 rows x 9 columns]\n",
            "\n",
            "Data INfo:\n",
            "<class 'pandas.core.frame.DataFrame'>\n",
            "RangeIndex: 768 entries, 0 to 767\n",
            "Data columns (total 9 columns):\n",
            " #   Column   Non-Null Count  Dtype  \n",
            "---  ------   --------------  -----  \n",
            " 0   0        768 non-null    float64\n",
            " 1   1        768 non-null    float64\n",
            " 2   2        768 non-null    float64\n",
            " 3   3        768 non-null    float64\n",
            " 4   4        768 non-null    float64\n",
            " 5   5        768 non-null    float64\n",
            " 6   6        768 non-null    float64\n",
            " 7   7        768 non-null    float64\n",
            " 8   Outcome  768 non-null    int64  \n",
            "dtypes: float64(8), int64(1)\n",
            "memory usage: 54.1 KB\n"
          ]
        }
      ]
    }
  ]
}